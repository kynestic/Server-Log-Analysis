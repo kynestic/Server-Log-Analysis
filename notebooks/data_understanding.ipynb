{
 "cells": [
  {
   "cell_type": "markdown",
   "metadata": {},
   "source": [
    "# Data Understanding - Server Logs\n",
    "### 1. Nguồn dữ liệu\n",
    "### 2. Mô tả trường thông tin\n",
    "#### Dữ liệu log có cấu trúc gồm các trường chính:\n",
    "| **Tên Trường**        | **Kiểu Dữ Liệu**       | **Mô Tả Ý Nghĩa**                                                      |\n",
    "|-----------------------|------------------------|-------------------------------------------------------------------------|\n",
    "| `std`                 | String                 | Loại log: `stdout` (log bình thường) hoặc `stderr` (log lỗi).                |\n",
    "| `remote_address`      | String                 | Địa chỉ IP của máy khách.                                      |\n",
    "| `remote_user`         | String                 | Tên người dùng (dấu `-` nếu không có thông tin).     |\n",
    "| `datetime`            | Datetime               | Thời gian và ngày giờ của request, định dạng theo chuẩn ISO8601: `yyyy-MM-dd'T'HH:mm:ss.SSSSSSSSS+hh:mm`|\n",
    "| `method`              | String                 | Phương thức HTTP (ví dụ: GET, POST, PUT, DELETE,...)                 |\n",
    "| `path`                | String                 | Đường dẫnđược truy cập trên máy chủ (ví dụ: `/status`, `/api/data`)           |\n",
    "| `header`              | String                 | Phiên bản giao thức HTTP (ví dụ: `HTTP/1.1`).                           |\n",
    "| `status`              | Integer                | Mã trạng thái HTTP trả về (ví dụ: `200`, `404`, `500`)                |\n",
    "| `bytes_sent`          | Integer                | Số byte dữ liệu đã được gửi trong phản hồi (response)                |\n",
    "| `referer`             | String                 | URL nguồn (referer) của request           |\n",
    "| `user_agent`          | String                 | Thông tin về trình duyệt hoặc công cụ gửi request. |\n",
    "### 3. Tách các dòng log thành các trường dữ liệu\n",
    "#### Ví dụ ta có dữ liệu như sau:<br>2024-11-30T13:51:41.272335253+07:00 stdout F 127.0.0.1 - - [30/Nov/2024:06:51:41 +0000] \"GET /status HTTP/1.1\" 200 1164 \"-\" \"kong-ingress-controller/3.3.1\"<br>2024-11-30T13:51:42.210291667+07:00 stderr F 10.244.3.1 - - [30/Nov/2024:06:51:42 +0000] \"GET /status HTTP/1.1\" 200 1165 \"-\" \"kube-probe/1.27\"<br>2024-11-30T13:51:42.213094133+07:00 stderr F 10.244.3.1 - - [30/Nov/2024:06:51:42 +0000] \"GET /status/ready HTTP/1.1\" 200 19 \"-\" \"kube-probe/1.27\"\n",
    "\n",
    "#### Mục tiêu là tách các trường dữ liệu và đưa về dạng:<br>\n",
    "| std    | remote_address | remote_user | datetime                    | method | path          | header   | status | bytes_sent | referer | user_agent                     |\n",
    "|--------|----------------|-------------|-----------------------------|--------|---------------|----------|--------|------------|---------|--------------------------------|\n",
    "| stdout | 127.0.0.1      | -           | 30/Nov/2024:06:51:41 +0000 | GET    | /status       | HTTP/1.1 | 200    | 1164       | -       | kong-ingress-controller/3.3.1 |\n",
    "| stderr | 10.244.3.1     | -           | 30/Nov/2024:06:51:42 +0000 | GET    | /status       | HTTP/1.1 | 200    | 1165       | -       | kube-probe/1.27               |\n",
    "| stderr | 10.244.3.1     | -           | 30/Nov/2024:06:51:42 +0000 | GET    | /status/ready | HTTP/1.1 | 200    | 19         | -       | kube-probe/1.27               |\n",
    "#### Để đạt được các trường dữ liệu đó, ta cần thiết kế biểu thức regex tương ứng: <br> \n",
    "```regex\n",
    "^\n",
    "\\S+                              # Phần đầu dòng, bỏ qua chuỗi không chứa khoảng trắng.\n",
    " (?P<std>\\S+)                    # Nhóm `std`: stdout/stderr.\n",
    " \\S+                             # Bỏ qua một chuỗi không chứa khoảng trắng.\n",
    " (?P<remote_address>\\d+\\.\\d+\\.\\d+\\.\\d+) # Nhóm `remote_address`: Địa chỉ IP (IPv4).\n",
    " -                               # Ký tự gạch ngang.\n",
    " (?P<remote_user>[^ ]*)          # Nhóm `remote_user`: Tên người dùng (hoặc trống: `-`).\n",
    " \\[(?P<datetime>[^\\]]+)\\]        # Nhóm `datetime`: Thời gian (nằm trong dấu `[]`).\n",
    " \"(?P<method>\\w+)                # Nhóm `method`: Phương thức HTTP (GET, POST,...).\n",
    "  (?P<path>[^\\s]+)               # Nhóm `path`: Đường dẫn truy cập.\n",
    "  (?P<header>[^\\\"]+)\"            # Nhóm `header`: Phiên bản giao thức (HTTP/1.1).\n",
    " (?P<status>\\d+)                 # Nhóm `status`: Mã trạng thái HTTP (200, 404,...).\n",
    " (?P<bytes_sent>\\d+)             # Nhóm `bytes_sent`: Số byte đã gửi.\n",
    " \"(?P<referer>[^\\\"]*)\"           # Nhóm `referer`: URL nguồn (có thể trống: `-`).\n",
    " \"(?P<user_agent>[^\\\"]*)\"        # Nhóm `user_agent`: Thông tin User-Agent."
   ]
  },
  {
   "cell_type": "code",
   "execution_count": 2,
   "metadata": {},
   "outputs": [],
   "source": [
    "import pandas as pd\n",
    "import numpy as np\n",
    "import os\n",
    "import re\n",
    "from tqdm import tqdm"
   ]
  },
  {
   "cell_type": "code",
   "execution_count": 3,
   "metadata": {},
   "outputs": [],
   "source": [
    "file_log= r'D:\\CODING\\Project\\Server Log Analysis\\data\\raw\\server_log.txt'"
   ]
  },
  {
   "cell_type": "code",
   "execution_count": 4,
   "metadata": {},
   "outputs": [],
   "source": [
    "log_pattern= r'^\\S+ (?P<std>\\S+) \\S+ (?P<remote_address>\\d+\\.\\d+\\.\\d+\\.\\d+) - (?P<remote_user>[^ ]*) \\[(?P<datetime>[^\\]]+)\\] \"(?P<method>\\w+) (?P<path>[^\\s]+) (?P<header>[^\\\"]+)\" (?P<status>\\d+) (?P<bytes_sent>\\d+) \"(?P<referer>[^\\\"]*)\" \"(?P<user_agent>[^\\\"]*)\"'"
   ]
  },
  {
   "cell_type": "code",
   "execution_count": 5,
   "metadata": {},
   "outputs": [],
   "source": [
    "with open(file_log, 'r') as file:\n",
    "    log_lines = file.readlines()"
   ]
  },
  {
   "cell_type": "code",
   "execution_count": 6,
   "metadata": {},
   "outputs": [],
   "source": [
    "parsed_logs = [re.match(log_pattern, line).groupdict() for line in log_lines if re.match(log_pattern, line)]"
   ]
  },
  {
   "cell_type": "code",
   "execution_count": 7,
   "metadata": {},
   "outputs": [],
   "source": [
    "df = pd.DataFrame(parsed_logs)"
   ]
  },
  {
   "cell_type": "code",
   "execution_count": 8,
   "metadata": {},
   "outputs": [
    {
     "data": {
      "text/html": [
       "<div>\n",
       "<style scoped>\n",
       "    .dataframe tbody tr th:only-of-type {\n",
       "        vertical-align: middle;\n",
       "    }\n",
       "\n",
       "    .dataframe tbody tr th {\n",
       "        vertical-align: top;\n",
       "    }\n",
       "\n",
       "    .dataframe thead th {\n",
       "        text-align: right;\n",
       "    }\n",
       "</style>\n",
       "<table border=\"1\" class=\"dataframe\">\n",
       "  <thead>\n",
       "    <tr style=\"text-align: right;\">\n",
       "      <th></th>\n",
       "      <th>std</th>\n",
       "      <th>remote_address</th>\n",
       "      <th>remote_user</th>\n",
       "      <th>datetime</th>\n",
       "      <th>method</th>\n",
       "      <th>path</th>\n",
       "      <th>header</th>\n",
       "      <th>status</th>\n",
       "      <th>bytes_sent</th>\n",
       "      <th>referer</th>\n",
       "      <th>user_agent</th>\n",
       "    </tr>\n",
       "  </thead>\n",
       "  <tbody>\n",
       "    <tr>\n",
       "      <th>0</th>\n",
       "      <td>stdout</td>\n",
       "      <td>127.0.0.1</td>\n",
       "      <td>-</td>\n",
       "      <td>30/Nov/2024:06:51:41 +0000</td>\n",
       "      <td>GET</td>\n",
       "      <td>/status</td>\n",
       "      <td>HTTP/1.1</td>\n",
       "      <td>200</td>\n",
       "      <td>1164</td>\n",
       "      <td>-</td>\n",
       "      <td>kong-ingress-controller/3.3.1</td>\n",
       "    </tr>\n",
       "    <tr>\n",
       "      <th>1</th>\n",
       "      <td>stderr</td>\n",
       "      <td>10.244.3.1</td>\n",
       "      <td>-</td>\n",
       "      <td>30/Nov/2024:06:51:42 +0000</td>\n",
       "      <td>GET</td>\n",
       "      <td>/status</td>\n",
       "      <td>HTTP/1.1</td>\n",
       "      <td>200</td>\n",
       "      <td>1165</td>\n",
       "      <td>-</td>\n",
       "      <td>kube-probe/1.27</td>\n",
       "    </tr>\n",
       "    <tr>\n",
       "      <th>2</th>\n",
       "      <td>stderr</td>\n",
       "      <td>10.244.3.1</td>\n",
       "      <td>-</td>\n",
       "      <td>30/Nov/2024:06:51:42 +0000</td>\n",
       "      <td>GET</td>\n",
       "      <td>/status/ready</td>\n",
       "      <td>HTTP/1.1</td>\n",
       "      <td>200</td>\n",
       "      <td>19</td>\n",
       "      <td>-</td>\n",
       "      <td>kube-probe/1.27</td>\n",
       "    </tr>\n",
       "    <tr>\n",
       "      <th>3</th>\n",
       "      <td>stdout</td>\n",
       "      <td>127.0.0.1</td>\n",
       "      <td>-</td>\n",
       "      <td>30/Nov/2024:06:51:44 +0000</td>\n",
       "      <td>GET</td>\n",
       "      <td>/status</td>\n",
       "      <td>HTTP/1.1</td>\n",
       "      <td>200</td>\n",
       "      <td>1164</td>\n",
       "      <td>-</td>\n",
       "      <td>kong-ingress-controller/3.3.1</td>\n",
       "    </tr>\n",
       "    <tr>\n",
       "      <th>4</th>\n",
       "      <td>stdout</td>\n",
       "      <td>127.0.0.1</td>\n",
       "      <td>-</td>\n",
       "      <td>30/Nov/2024:06:51:47 +0000</td>\n",
       "      <td>GET</td>\n",
       "      <td>/status</td>\n",
       "      <td>HTTP/1.1</td>\n",
       "      <td>200</td>\n",
       "      <td>1164</td>\n",
       "      <td>-</td>\n",
       "      <td>kong-ingress-controller/3.3.1</td>\n",
       "    </tr>\n",
       "  </tbody>\n",
       "</table>\n",
       "</div>"
      ],
      "text/plain": [
       "      std remote_address remote_user                    datetime method  \\\n",
       "0  stdout      127.0.0.1           -  30/Nov/2024:06:51:41 +0000    GET   \n",
       "1  stderr     10.244.3.1           -  30/Nov/2024:06:51:42 +0000    GET   \n",
       "2  stderr     10.244.3.1           -  30/Nov/2024:06:51:42 +0000    GET   \n",
       "3  stdout      127.0.0.1           -  30/Nov/2024:06:51:44 +0000    GET   \n",
       "4  stdout      127.0.0.1           -  30/Nov/2024:06:51:47 +0000    GET   \n",
       "\n",
       "            path    header status bytes_sent referer  \\\n",
       "0        /status  HTTP/1.1    200       1164       -   \n",
       "1        /status  HTTP/1.1    200       1165       -   \n",
       "2  /status/ready  HTTP/1.1    200         19       -   \n",
       "3        /status  HTTP/1.1    200       1164       -   \n",
       "4        /status  HTTP/1.1    200       1164       -   \n",
       "\n",
       "                      user_agent  \n",
       "0  kong-ingress-controller/3.3.1  \n",
       "1                kube-probe/1.27  \n",
       "2                kube-probe/1.27  \n",
       "3  kong-ingress-controller/3.3.1  \n",
       "4  kong-ingress-controller/3.3.1  "
      ]
     },
     "execution_count": 8,
     "metadata": {},
     "output_type": "execute_result"
    }
   ],
   "source": [
    "df.head()"
   ]
  },
  {
   "cell_type": "code",
   "execution_count": 9,
   "metadata": {},
   "outputs": [],
   "source": [
    "df.to_csv(r'D:\\CODING\\Project\\Server Log Analysis\\data\\interim\\parsed_logs.csv')"
   ]
  },
  {
   "cell_type": "code",
   "execution_count": 10,
   "metadata": {},
   "outputs": [
    {
     "name": "stdout",
     "output_type": "stream",
     "text": [
      "<class 'pandas.core.frame.DataFrame'>\n",
      "RangeIndex: 66411 entries, 0 to 66410\n",
      "Data columns (total 11 columns):\n",
      " #   Column          Non-Null Count  Dtype \n",
      "---  ------          --------------  ----- \n",
      " 0   std             66411 non-null  object\n",
      " 1   remote_address  66411 non-null  object\n",
      " 2   remote_user     66411 non-null  object\n",
      " 3   datetime        66411 non-null  object\n",
      " 4   method          66411 non-null  object\n",
      " 5   path            66411 non-null  object\n",
      " 6   header          66411 non-null  object\n",
      " 7   status          66411 non-null  object\n",
      " 8   bytes_sent      66411 non-null  object\n",
      " 9   referer         66411 non-null  object\n",
      " 10  user_agent      66411 non-null  object\n",
      "dtypes: object(11)\n",
      "memory usage: 5.6+ MB\n"
     ]
    }
   ],
   "source": [
    "df.info()"
   ]
  },
  {
   "cell_type": "markdown",
   "metadata": {},
   "source": [
    "Data Preprocessing"
   ]
  },
  {
   "cell_type": "code",
   "execution_count": 11,
   "metadata": {},
   "outputs": [
    {
     "name": "stderr",
     "output_type": "stream",
     "text": [
      "C:\\Users\\Admin\\AppData\\Local\\Temp\\ipykernel_22200\\2296486338.py:1: FutureWarning: Downcasting behavior in `replace` is deprecated and will be removed in a future version. To retain the old behavior, explicitly call `result.infer_objects(copy=False)`. To opt-in to the future behavior, set `pd.set_option('future.no_silent_downcasting', True)`\n",
      "  df['std'] = df['std'].replace({'stdout': 0, 'stderr': 1})\n"
     ]
    }
   ],
   "source": [
    "df['std'] = df['std'].replace({'stdout': 0, 'stderr': 1})"
   ]
  },
  {
   "cell_type": "code",
   "execution_count": 12,
   "metadata": {},
   "outputs": [],
   "source": [
    "from datetime import datetime\n",
    "df['datetime'] = df['datetime'].apply(lambda x: datetime.strptime(x, \"%d/%b/%Y:%H:%M:%S %z\"))"
   ]
  },
  {
   "cell_type": "code",
   "execution_count": 13,
   "metadata": {},
   "outputs": [],
   "source": [
    "df = df.drop(['remote_user'], axis = 1)"
   ]
  },
  {
   "cell_type": "code",
   "execution_count": 14,
   "metadata": {},
   "outputs": [
    {
     "name": "stderr",
     "output_type": "stream",
     "text": [
      "C:\\Users\\Admin\\AppData\\Local\\Temp\\ipykernel_22200\\1831852460.py:1: FutureWarning: Downcasting behavior in `replace` is deprecated and will be removed in a future version. To retain the old behavior, explicitly call `result.infer_objects(copy=False)`. To opt-in to the future behavior, set `pd.set_option('future.no_silent_downcasting', True)`\n",
      "  df['method'] = df['method'].replace({'GET': 0, 'POST': 1})\n"
     ]
    }
   ],
   "source": [
    "df['method'] = df['method'].replace({'GET': 0, 'POST': 1})"
   ]
  },
  {
   "cell_type": "code",
   "execution_count": 15,
   "metadata": {},
   "outputs": [],
   "source": [
    "df = df.drop(['header'], axis = 1)"
   ]
  },
  {
   "cell_type": "code",
   "execution_count": 16,
   "metadata": {},
   "outputs": [],
   "source": [
    "df ['bytes_sent'] = pd.to_numeric(df['bytes_sent'])"
   ]
  },
  {
   "cell_type": "code",
   "execution_count": 17,
   "metadata": {},
   "outputs": [
    {
     "name": "stdout",
     "output_type": "stream",
     "text": [
      "<class 'pandas.core.frame.DataFrame'>\n",
      "RangeIndex: 66411 entries, 0 to 66410\n",
      "Data columns (total 9 columns):\n",
      " #   Column          Non-Null Count  Dtype              \n",
      "---  ------          --------------  -----              \n",
      " 0   std             66411 non-null  int64              \n",
      " 1   remote_address  66411 non-null  object             \n",
      " 2   datetime        66411 non-null  datetime64[ns, UTC]\n",
      " 3   method          66411 non-null  int64              \n",
      " 4   path            66411 non-null  object             \n",
      " 5   status          66411 non-null  int64              \n",
      " 6   bytes_sent      66411 non-null  int64              \n",
      " 7   referer         66411 non-null  object             \n",
      " 8   user_agent      66411 non-null  object             \n",
      "dtypes: datetime64[ns, UTC](1), int64(4), object(4)\n",
      "memory usage: 4.6+ MB\n"
     ]
    }
   ],
   "source": [
    "df['status'] = pd.to_numeric(df['status'])\n",
    "df.info()"
   ]
  },
  {
   "cell_type": "code",
   "execution_count": 18,
   "metadata": {},
   "outputs": [
    {
     "data": {
      "text/plain": [
       "std               0\n",
       "remote_address    0\n",
       "datetime          0\n",
       "method            0\n",
       "path              0\n",
       "status            0\n",
       "bytes_sent        0\n",
       "referer           0\n",
       "user_agent        0\n",
       "dtype: int64"
      ]
     },
     "execution_count": 18,
     "metadata": {},
     "output_type": "execute_result"
    }
   ],
   "source": [
    "df.isnull().sum()"
   ]
  },
  {
   "cell_type": "code",
   "execution_count": 19,
   "metadata": {},
   "outputs": [],
   "source": [
    "df['day'] = df['datetime'].dt.day\n",
    "df['hour'] = df['datetime'].dt.hour\n",
    "df['month'] = df['datetime'].dt.month"
   ]
  },
  {
   "cell_type": "markdown",
   "metadata": {},
   "source": [
    "### 4. Minh họa dữ liệu"
   ]
  },
  {
   "cell_type": "code",
   "execution_count": 20,
   "metadata": {},
   "outputs": [],
   "source": [
    "import matplotlib.pyplot as plt\n",
    "import seaborn as sns"
   ]
  },
  {
   "cell_type": "code",
   "execution_count": 21,
   "metadata": {},
   "outputs": [
    {
     "data": {
      "image/png": "[encoded data removed]",
      "text/plain": [
       "<Figure size 640x480 with 2 Axes>"
      ]
     },
     "metadata": {},
     "output_type": "display_data"
    }
   ],
   "source": [
    "dataplot = sns.heatmap(df.corr(numeric_only=True), cmap=\"YlGnBu\", annot=True)\n",
    "plt.show()"
   ]
  },
  {
   "cell_type": "code",
   "execution_count": 22,
   "metadata": {},
   "outputs": [
    {
     "data": {
      "text/html": [
       "<div>\n",
       "<style scoped>\n",
       "    .dataframe tbody tr th:only-of-type {\n",
       "        vertical-align: middle;\n",
       "    }\n",
       "\n",
       "    .dataframe tbody tr th {\n",
       "        vertical-align: top;\n",
       "    }\n",
       "\n",
       "    .dataframe thead th {\n",
       "        text-align: right;\n",
       "    }\n",
       "</style>\n",
       "<table border=\"1\" class=\"dataframe\">\n",
       "  <thead>\n",
       "    <tr style=\"text-align: right;\">\n",
       "      <th></th>\n",
       "      <th>std</th>\n",
       "      <th>remote_address</th>\n",
       "      <th>datetime</th>\n",
       "      <th>method</th>\n",
       "      <th>path</th>\n",
       "      <th>status</th>\n",
       "      <th>bytes_sent</th>\n",
       "      <th>referer</th>\n",
       "      <th>user_agent</th>\n",
       "      <th>day</th>\n",
       "      <th>hour</th>\n",
       "      <th>month</th>\n",
       "    </tr>\n",
       "  </thead>\n",
       "  <tbody>\n",
       "    <tr>\n",
       "      <th>0</th>\n",
       "      <td>0</td>\n",
       "      <td>127.0.0.1</td>\n",
       "      <td>2024-11-30 06:51:41+00:00</td>\n",
       "      <td>0</td>\n",
       "      <td>/status</td>\n",
       "      <td>200</td>\n",
       "      <td>1164</td>\n",
       "      <td>-</td>\n",
       "      <td>kong-ingress-controller/3.3.1</td>\n",
       "      <td>30</td>\n",
       "      <td>6</td>\n",
       "      <td>11</td>\n",
       "    </tr>\n",
       "    <tr>\n",
       "      <th>1</th>\n",
       "      <td>1</td>\n",
       "      <td>10.244.3.1</td>\n",
       "      <td>2024-11-30 06:51:42+00:00</td>\n",
       "      <td>0</td>\n",
       "      <td>/status</td>\n",
       "      <td>200</td>\n",
       "      <td>1165</td>\n",
       "      <td>-</td>\n",
       "      <td>kube-probe/1.27</td>\n",
       "      <td>30</td>\n",
       "      <td>6</td>\n",
       "      <td>11</td>\n",
       "    </tr>\n",
       "    <tr>\n",
       "      <th>2</th>\n",
       "      <td>1</td>\n",
       "      <td>10.244.3.1</td>\n",
       "      <td>2024-11-30 06:51:42+00:00</td>\n",
       "      <td>0</td>\n",
       "      <td>/status/ready</td>\n",
       "      <td>200</td>\n",
       "      <td>19</td>\n",
       "      <td>-</td>\n",
       "      <td>kube-probe/1.27</td>\n",
       "      <td>30</td>\n",
       "      <td>6</td>\n",
       "      <td>11</td>\n",
       "    </tr>\n",
       "  </tbody>\n",
       "</table>\n",
       "</div>"
      ],
      "text/plain": [
       "   std remote_address                  datetime  method           path  \\\n",
       "0    0      127.0.0.1 2024-11-30 06:51:41+00:00       0        /status   \n",
       "1    1     10.244.3.1 2024-11-30 06:51:42+00:00       0        /status   \n",
       "2    1     10.244.3.1 2024-11-30 06:51:42+00:00       0  /status/ready   \n",
       "\n",
       "   status  bytes_sent referer                     user_agent  day  hour  month  \n",
       "0     200        1164       -  kong-ingress-controller/3.3.1   30     6     11  \n",
       "1     200        1165       -                kube-probe/1.27   30     6     11  \n",
       "2     200          19       -                kube-probe/1.27   30     6     11  "
      ]
     },
     "execution_count": 22,
     "metadata": {},
     "output_type": "execute_result"
    }
   ],
   "source": [
    "df.head(3)"
   ]
  }
 ],
 "metadata": {
  "interpreter": {
   "hash": "5ac8e2bf31f5504fdd1eade4ff19bd8dc0fc7413afbc946508a7a0f3f7122c2f"
  },
  "kernelspec": {
   "display_name": "Python 3.12.7 ('venv': venv)",
   "language": "python",
   "name": "python3"
  },
  "language_info": {
   "codemirror_mode": {
    "name": "ipython",
    "version": 3
   },
   "file_extension": ".py",
   "mimetype": "text/x-python",
   "name": "python",
   "nbconvert_exporter": "python",
   "pygments_lexer": "ipython3",
   "version": "3.12.8"
  }
 },
 "nbformat": 4,
 "nbformat_minor": 2
}
